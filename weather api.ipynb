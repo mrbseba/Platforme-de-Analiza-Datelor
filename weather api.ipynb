{
 "cells": [
  {
   "cell_type": "code",
   "execution_count": 12,
   "id": "60cc3d8d",
   "metadata": {},
   "outputs": [],
   "source": [
    "# import the library\n",
    "import requests\n",
    "\n",
    "# get the forecasting for weather\n",
    "\n",
    "\n",
    "def request_forecast(city_id):\n",
    "    try:\n",
    "        res = requests.get(\n",
    "            \"https://api.openweathermap.org/data/3.0/forecast\",\n",
    "            params={\n",
    "                'id': city_id,\n",
    "                'units': 'metric',\n",
    "                'lang': 'en',\n",
    "                'APPID':'27505ead25638464ae86bc6142bccbe1'\n",
    "            })\n",
    "\n",
    "#         res = requests.get(\n",
    "#             \"http://api.openweathermap.org/data/2.5/forecast\",\n",
    "#             params = {\n",
    "#                 'id': city_id, 'units': 'metric', 'lang': 'ro', 'APPID': appid\n",
    "#                      })\n",
    "        data.res.json()\n",
    "        \n",
    "        print('city:', data['city']['name'], data['city']['country'])\n",
    "        for i in data['list']:\n",
    "            print(\n",
    "                (i['dt_txt'])[:16], '{0:+3.0f}'.format(i['main']['temp']),\n",
    "                '{0:2.0f}'.format(i['wind']['speed']) + \" M/C\",\n",
    "                get_wind_direction(i['wind']['deg']),\n",
    "                i['weather'][0]['description'])\n",
    "    except Exception as e:\n",
    "        print(\"Exception (forecast)\", e)\n",
    "        pass"
   ]
  },
  {
   "cell_type": "code",
   "execution_count": 13,
   "id": "98c8237f",
   "metadata": {},
   "outputs": [],
   "source": [
    "def get_city_id(city_name):\n",
    "    # You can use the OpenWeatherMap API to search for the city by name\n",
    "    # and get its ID. Here's an example of how to do it:\n",
    "    \n",
    "    url = \"http://api.openweathermap.org/data/2.5/find\"\n",
    "    params = {\"q\": city_name, \"type\": \"like\", \"mode\": \"json\", \"APPID\": \"27505ead25638464ae86bc6142bccbe1\"}\n",
    "    response = requests.get(url, params=params)\n",
    "    \n",
    "    if response.status_code == 200:\n",
    "        data = response.json()\n",
    "        if data[\"list\"]:\n",
    "            # return the ID of the first city in the list\n",
    "            return data[\"list\"][0][\"id\"]\n",
    "    \n",
    "    # return None if the city ID was not found\n",
    "    return None"
   ]
  },
  {
   "cell_type": "code",
   "execution_count": 14,
   "id": "8a0e561b",
   "metadata": {},
   "outputs": [
    {
     "name": "stdout",
     "output_type": "stream",
     "text": [
      "Exception (forecast) name 'data' is not defined\n"
     ]
    }
   ],
   "source": [
    "# city_id\n",
    "city_id = None\n",
    "s_city_name = 'Cork'\n",
    "\n",
    "city_id = get_city_id(s_city_name)\n",
    "\n",
    "request_forecast(city_id)"
   ]
  },
  {
   "cell_type": "code",
   "execution_count": 11,
   "id": "ab873503",
   "metadata": {},
   "outputs": [
    {
     "name": "stdout",
     "output_type": "stream",
     "text": [
      "Enter City:London\n"
     ]
    },
    {
     "ename": "KeyError",
     "evalue": "'4141170927af892d07118023cae70f59'",
     "output_type": "error",
     "traceback": [
      "\u001b[1;31m---------------------------------------------------------------------------\u001b[0m",
      "\u001b[1;31mKeyError\u001b[0m                                  Traceback (most recent call last)",
      "Input \u001b[1;32mIn [11]\u001b[0m, in \u001b[0;36m<cell line: 5>\u001b[1;34m()\u001b[0m\n\u001b[0;32m      1\u001b[0m \u001b[38;5;28;01mimport\u001b[39;00m \u001b[38;5;21;01mrequests\u001b[39;00m\n\u001b[0;32m      3\u001b[0m city \u001b[38;5;241m=\u001b[39m \u001b[38;5;28minput\u001b[39m(\u001b[38;5;124m\"\u001b[39m\u001b[38;5;124mEnter City:\u001b[39m\u001b[38;5;124m\"\u001b[39m)\n\u001b[1;32m----> 5\u001b[0m url \u001b[38;5;241m=\u001b[39m \u001b[38;5;124;43m'\u001b[39;49m\u001b[38;5;124;43mhttp://api.openweathermap.org/data/2.5/weather?q=\u001b[39;49m\u001b[38;5;132;43;01m{}\u001b[39;49;00m\u001b[38;5;124;43m&appid=\u001b[39;49m\u001b[38;5;132;43;01m{4141170927af892d07118023cae70f59}\u001b[39;49;00m\u001b[38;5;124;43m&units=metric\u001b[39;49m\u001b[38;5;124;43m'\u001b[39;49m\u001b[38;5;241;43m.\u001b[39;49m\u001b[43mformat\u001b[49m\u001b[43m(\u001b[49m\u001b[43mcity\u001b[49m\u001b[43m)\u001b[49m\n\u001b[0;32m      7\u001b[0m res \u001b[38;5;241m=\u001b[39m requests\u001b[38;5;241m.\u001b[39mget(url)\n\u001b[0;32m      8\u001b[0m data \u001b[38;5;241m=\u001b[39m res\u001b[38;5;241m.\u001b[39mjson()\n",
      "\u001b[1;31mKeyError\u001b[0m: '4141170927af892d07118023cae70f59'"
     ]
    }
   ],
   "source": [
    "import requests\n",
    "\n",
    "city = input(\"Enter City:\")\n",
    "\n",
    "url = 'http://api.openweathermap.org/data/2.5/weather?q={}&appid={4141170927af892d07118023cae70f59}&units=metric'.format(city)\n",
    "\n",
    "res = requests.get(url)\n",
    "data = res.json()\n",
    "\n",
    "humidity = data['main']['humidity']\n",
    "pressure = data['main']['pressure']\n",
    "wind = data['wind']['speed']\n",
    "description = data['weather'][0]['description']\n",
    "temp = data['main']['temp']\n",
    "\n",
    "print('Temperature:',temp,'°C')\n",
    "print('Wind:',wind)\n",
    "print('Pressure: ',pressure)\n",
    "print('Humidity: ',humidity)"
   ]
  },
  {
   "cell_type": "code",
   "execution_count": 1,
   "id": "2ac2a83b",
   "metadata": {},
   "outputs": [
    {
     "name": "stdout",
     "output_type": "stream",
     "text": [
      "Enter the Name of City -> London\n",
      "Searching...\n",
      "\n",
      "Meteo\n",
      "joi 15:00\n",
      "Înnorat\n",
      "12°C\n"
     ]
    }
   ],
   "source": [
    "from bs4 import BeautifulSoup\n",
    "import requests\n",
    "headers = {\n",
    "\t'User-Agent': 'Mozilla/5.0 (Windows NT 10.0; Win64; x64) AppleWebKit/537.36 (KHTML, like Gecko) Chrome/58.0.3029.110 Safari/537.3'}\n",
    "\n",
    "\n",
    "def weather(city):\n",
    "\tcity = city.replace(\" \", \"+\")\n",
    "\tres = requests.get(\n",
    "\t\tf'https://www.google.com/search?q={city}&oq={city}&aqs=chrome.0.35i39l2j0l4j46j69i60.6128j1j7&sourceid=chrome&ie=UTF-8', headers=headers)\n",
    "\tprint(\"Searching...\\n\")\n",
    "\tsoup = BeautifulSoup(res.text, 'html.parser')\n",
    "\tlocation = soup.select('#wob_loc')[0].getText().strip()\n",
    "\ttime = soup.select('#wob_dts')[0].getText().strip()\n",
    "\tinfo = soup.select('#wob_dc')[0].getText().strip()\n",
    "\tweather = soup.select('#wob_tm')[0].getText().strip()\n",
    "\tprint(location)\n",
    "\tprint(time)\n",
    "\tprint(info)\n",
    "\tprint(weather+\"°C\")\n",
    "\n",
    "\n",
    "city = input(\"Enter the Name of City -> \")\n",
    "city = city+\" weather\"\n",
    "weather(city)\n",
    "\n",
    "\n",
    "# This code is contributed by adityatri\n"
   ]
  }
 ],
 "metadata": {
  "kernelspec": {
   "display_name": "Python 3 (ipykernel)",
   "language": "python",
   "name": "python3"
  },
  "language_info": {
   "codemirror_mode": {
    "name": "ipython",
    "version": 3
   },
   "file_extension": ".py",
   "mimetype": "text/x-python",
   "name": "python",
   "nbconvert_exporter": "python",
   "pygments_lexer": "ipython3",
   "version": "3.10.2"
  }
 },
 "nbformat": 4,
 "nbformat_minor": 5
}
